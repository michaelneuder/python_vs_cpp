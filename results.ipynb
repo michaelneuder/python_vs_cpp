{
 "cells": [
  {
   "cell_type": "markdown",
   "metadata": {
    "deletable": true,
    "editable": true
   },
   "source": [
    "# results\n",
    "---\n",
    "### purpose \n",
    "this notebook is designed to walk the reader through the results of an analysis of the run-time comparison between python and c++. if successful, it will explain what was tested, how the data was collected, and present the results in a clear way. all the code used to collect the data is located in this github repo, so the reader run and/or modify the files in any way.\n",
    "\n",
    "---\n",
    "### what was tested\n",
    "the motivation for this project came when my boss asked me to write a c++ and python version of a Qt gui app and compare runtime of different operations. that led to interest in non-graphical speed tests, so the tests are broken down into graphical and non-graphical. below are the four tests that were run.\n",
    ">__non-graphical__ \n",
    "* random number generation\n",
    "* prime factorization\n",
    "\n",
    ">__graphical__\n",
    "* computation and list population\n",
    "\n",
    "each test will be explained and the data will be presented in the cells below. enjoy."
   ]
  },
  {
   "cell_type": "markdown",
   "metadata": {
    "collapsed": true,
    "deletable": true,
    "editable": true
   },
   "source": [
    "---\n",
    "# random number generation\n",
    "data collection files: [python](https://github.com/michaelneuder/python_vs_cpp/blob/master/python/non-graphical/data_collector_rng.py) [cpp](https://github.com/michaelneuder/python_vs_cpp/blob/master/cpp/non-graphical/data_collector_rng.cpp)\n",
    "\n",
    "data files: [python](https://github.com/michaelneuder/python_vs_cpp/blob/master/python/non-graphical/data/rng_data.csv) [cpp](https://github.com/michaelneuder/python_vs_cpp/blob/master/cpp/non-graphical/data/rng_data.csv)\n",
    "\n",
    "data analysis file: [comparison](https://github.com/michaelneuder/python_vs_cpp/blob/master/analysis/comparing_generation.py)\n",
    "\n",
    ">__method__: \n",
    "a list containing the numbers 1 to 499,501 and incrementing by 500 was created, so there were 1000 values. this list served as the size of the rng lists to be created. both programs took this list and generated a new list of random numbers in the range [2,1000000000) of size of the current index of the original list (so first a list of size 1, then of 501 and so on). the rng was of such a large range because larger numbers take longer to factorize so it lended itself well to the next test.\n",
    "\n",
    "---"
   ]
  },
  {
   "cell_type": "code",
   "execution_count": 82,
   "metadata": {
    "collapsed": false,
    "deletable": true,
    "editable": true
   },
   "outputs": [
    {
     "data": {
      "text/html": [
       "<div>\n",
       "<table border=\"1\" class=\"dataframe\">\n",
       "  <thead>\n",
       "    <tr style=\"text-align: right;\">\n",
       "      <th></th>\n",
       "      <th>number of input</th>\n",
       "      <th>runtime</th>\n",
       "    </tr>\n",
       "  </thead>\n",
       "  <tbody>\n",
       "    <tr>\n",
       "      <th>0</th>\n",
       "      <td>1</td>\n",
       "      <td>1.402</td>\n",
       "    </tr>\n",
       "    <tr>\n",
       "      <th>1</th>\n",
       "      <td>501</td>\n",
       "      <td>58.855</td>\n",
       "    </tr>\n",
       "    <tr>\n",
       "      <th>2</th>\n",
       "      <td>1001</td>\n",
       "      <td>28.796</td>\n",
       "    </tr>\n",
       "    <tr>\n",
       "      <th>3</th>\n",
       "      <td>1501</td>\n",
       "      <td>42.008</td>\n",
       "    </tr>\n",
       "    <tr>\n",
       "      <th>4</th>\n",
       "      <td>2001</td>\n",
       "      <td>54.964</td>\n",
       "    </tr>\n",
       "  </tbody>\n",
       "</table>\n",
       "</div>"
      ],
      "text/plain": [
       "   number of input  runtime\n",
       "0                1    1.402\n",
       "1              501   58.855\n",
       "2             1001   28.796\n",
       "3             1501   42.008\n",
       "4             2001   54.964"
      ]
     },
     "execution_count": 82,
     "metadata": {},
     "output_type": "execute_result"
    }
   ],
   "source": [
    "import pandas as pd\n",
    "import numpy as np\n",
    "import matplotlib.pyplot as plt\n",
    "%matplotlib inline\n",
    "\n",
    "# reading data into dataframes\n",
    "python_data = pd.io.parsers.read_csv('python/non-graphical/data/rng_data.csv', names=['number of input', 'runtime'], header=0)\n",
    "cpp_data = pd.io.parsers.read_csv('cpp/non-graphical/data/rng_data.csv', names=['number of input', 'runtime'], header=0)\n",
    "\n",
    "# quick glance at some of the python data\n",
    "python_data[:5]"
   ]
  },
  {
   "cell_type": "code",
   "execution_count": 83,
   "metadata": {
    "collapsed": false,
    "deletable": true,
    "editable": true
   },
   "outputs": [
    {
     "data": {
      "image/png": "[encoded data removed]",
      "text/plain": [
       "<matplotlib.figure.Figure at 0x7fdfb697cf60>"
      ]
     },
     "metadata": {},
     "output_type": "display_data"
    }
   ],
   "source": [
    "# getting the plot data\n",
    "python_plot = np.asarray(python_data['runtime'], dtype=np.float64)\n",
    "cpp_plot = np.asarray(cpp_data['runtime'], dtype=np.float64)\n",
    "\n",
    "# x-axis plot data\n",
    "x_plot_python = np.asarray(python_data['number of input'], dtype=np.float64)\n",
    "x_plot_cpp = np.asarray(cpp_data['number of input'], dtype=np.float64)\n",
    "\n",
    "# plotting the data\n",
    "plt.title(\"random number generation\")\n",
    "plt.xlabel(\"number of input\")\n",
    "plt.ylabel(\"runtime (ms)\")\n",
    "plt.plot(x_plot_python, python_plot, 'g', label='python')\n",
    "plt.plot(x_plot_cpp, cpp_plot, 'r', label='cpp')\n",
    "plt.legend()\n",
    "plt.show()"
   ]
  },
  {
   "cell_type": "code",
   "execution_count": 84,
   "metadata": {
    "collapsed": false,
    "deletable": true,
    "editable": true
   },
   "outputs": [
    {
     "name": "stdout",
     "output_type": "stream",
     "text": [
      "[ 14.57548849  13.14830941  13.58307109  13.36725451  15.67346677\n",
      "  14.35876505  13.3968577   12.6961164   14.16422916  13.80660648]\n",
      "[ 14.04895981  14.30564588  13.65910405  13.84655654  14.25400073\n",
      "  14.46854828  14.46286816  14.31723428  13.90963081  14.71664267]\n",
      "\n",
      "python is on average 13.12782037890079 times slower than cpp\n"
     ]
    }
   ],
   "source": [
    "# relationship\n",
    "quotient = np.asarray([python_plot[i]/cpp_plot[i] for i in range(len(python_plot))])\n",
    "print(quotient[801:811])\n",
    "print(quotient[990:])\n",
    "print(\"\\npython is on average {} times slower than cpp\".format(quotient.mean()))"
   ]
  },
  {
   "cell_type": "markdown",
   "metadata": {
    "deletable": true,
    "editable": true
   },
   "source": [
    "this turned out to be the noisiest data that was collected. though the data appears to be quite linear, along with the fact that the quotient of the python runtime divided by the cpp runtime seems to be stabalized at around 13-14."
   ]
  },
  {
   "cell_type": "markdown",
   "metadata": {
    "deletable": true,
    "editable": true
   },
   "source": [
    "---\n",
    "# prime factorization\n",
    "data collection files: [python](https://github.com/michaelneuder/python_vs_cpp/blob/master/python/non-graphical/data_collector_factorization.py) [cpp](https://github.com/michaelneuder/python_vs_cpp/blob/master/cpp/non-graphical/data_collector_factorization.cpp)\n",
    "\n",
    "data files: [python](https://github.com/michaelneuder/python_vs_cpp/blob/master/python/non-graphical/data/decomp_data.csv) [cpp](https://github.com/michaelneuder/python_vs_cpp/blob/master/cpp/non-graphical/data/decomp_data.csv)\n",
    "\n",
    "data analysis file: [comparison](https://github.com/michaelneuder/python_vs_cpp/blob/master/analysis/comparing_generation.py)\n",
    "\n",
    ">__method__: \n",
    "the goal of these files is to test how fast each language handled the same algorithm to decompose large numbers into their prime factorization. using the random number generators to create lists of numbers, the prime factorization files take these numbers and decompose them. starting with one input and going up to a thousand, the files only time how long it takes to run the decompose algorithm.\n",
    "\n",
    "below is the algorithm used to calculate the prime decomposition. i chose to display the python version due to its length and readibility, however the cpp algorithm was implemented in exactly the same way. \n",
    "```\n",
    "def decompose(self, n):\n",
    "    while(n%2 == 0):\n",
    "        self.factors.append(2)\n",
    "        n /= 2\n",
    "\n",
    "    for i in range(3,int(sqrt(n))+1):\n",
    "        while(n%i == 0):\n",
    "            self.factors.append(i)\n",
    "            n /= i\n",
    "\n",
    "    if(n > 2):\n",
    "        self.factors.append(int(n))\n",
    "       \n",
    "    return self.factors\n",
    "    \n",
    "```\n",
    "\n",
    "---"
   ]
  },
  {
   "cell_type": "code",
   "execution_count": 85,
   "metadata": {
    "collapsed": false,
    "deletable": true,
    "editable": true
   },
   "outputs": [
    {
     "data": {
      "text/html": [
       "<div>\n",
       "<table border=\"1\" class=\"dataframe\">\n",
       "  <thead>\n",
       "    <tr style=\"text-align: right;\">\n",
       "      <th></th>\n",
       "      <th>number of input</th>\n",
       "      <th>runtime</th>\n",
       "    </tr>\n",
       "  </thead>\n",
       "  <tbody>\n",
       "    <tr>\n",
       "      <th>995</th>\n",
       "      <td>996</td>\n",
       "      <td>2128.797</td>\n",
       "    </tr>\n",
       "    <tr>\n",
       "      <th>996</th>\n",
       "      <td>997</td>\n",
       "      <td>2156.966</td>\n",
       "    </tr>\n",
       "    <tr>\n",
       "      <th>997</th>\n",
       "      <td>998</td>\n",
       "      <td>2191.000</td>\n",
       "    </tr>\n",
       "    <tr>\n",
       "      <th>998</th>\n",
       "      <td>999</td>\n",
       "      <td>2196.961</td>\n",
       "    </tr>\n",
       "    <tr>\n",
       "      <th>999</th>\n",
       "      <td>1000</td>\n",
       "      <td>2164.900</td>\n",
       "    </tr>\n",
       "  </tbody>\n",
       "</table>\n",
       "</div>"
      ],
      "text/plain": [
       "     number of input   runtime\n",
       "995              996  2128.797\n",
       "996              997  2156.966\n",
       "997              998  2191.000\n",
       "998              999  2196.961\n",
       "999             1000  2164.900"
      ]
     },
     "execution_count": 85,
     "metadata": {},
     "output_type": "execute_result"
    }
   ],
   "source": [
    "# reading data into dataframes\n",
    "python_data = pd.io.parsers.read_csv('python/non-graphical/data/decomp_data.csv', names=['number of input', 'runtime'], header=0)\n",
    "cpp_data = pd.io.parsers.read_csv('cpp/non-graphical/data/decomp_data.csv', names=['number of input', 'runtime'], header=0)\n",
    "\n",
    "# quick glance at some of the python data\n",
    "python_data[995:]"
   ]
  },
  {
   "cell_type": "code",
   "execution_count": 86,
   "metadata": {
    "collapsed": false,
    "deletable": true,
    "editable": true
   },
   "outputs": [
    {
     "data": {
      "image/png": "[encoded data removed]",
      "text/plain": [
       "<matplotlib.figure.Figure at 0x7fdfb6b869b0>"
      ]
     },
     "metadata": {},
     "output_type": "display_data"
    }
   ],
   "source": [
    "# getting the plot data\n",
    "python_plot = np.asarray(python_data['runtime'], dtype=np.float64)\n",
    "cpp_plot = np.asarray(cpp_data['runtime'], dtype=np.float64)\n",
    "\n",
    "# x-axis plot data\n",
    "x_plot_python = np.asarray(python_data['number of input'], dtype=np.float64)\n",
    "x_plot_cpp = np.asarray(cpp_data['number of input'], dtype=np.float64)\n",
    "\n",
    "# plotting the data\n",
    "plt.title(\"prime factorization\")\n",
    "plt.xlabel(\"number of input\")\n",
    "plt.ylabel(\"runtime (ms)\")\n",
    "plt.plot(x_plot_python, python_plot, 'g', label='python')\n",
    "plt.plot(x_plot_cpp, cpp_plot, 'r', label='cpp')\n",
    "plt.legend()\n",
    "plt.show()"
   ]
  },
  {
   "cell_type": "code",
   "execution_count": 87,
   "metadata": {
    "collapsed": false,
    "deletable": true,
    "editable": true
   },
   "outputs": [
    {
     "name": "stdout",
     "output_type": "stream",
     "text": [
      "[ 56.29547219  69.06595928  54.88289474  42.44362416  52.38207985\n",
      "  60.93986584  49.56646526  36.35307087  55.02151809  30.29347826]\n",
      "[ 53.68967773  57.51418603  50.53534331  51.6555674   55.24549179\n",
      "  53.53174743  50.46124693  55.20282187  53.94492462  50.2670196 ]\n",
      "\n",
      "python is on average 51.80771773317707 times slower than cpp\n"
     ]
    }
   ],
   "source": [
    "# relationship\n",
    "quotient = np.asarray([python_plot[i]/cpp_plot[i] for i in range(len(python_plot))])\n",
    "print(quotient[100:110])\n",
    "print(quotient[990:])\n",
    "print(\"\\npython is on average {} times slower than cpp\".format(quotient.mean()))"
   ]
  },
  {
   "cell_type": "markdown",
   "metadata": {
    "deletable": true,
    "editable": true
   },
   "source": [
    "this turned out pretty nice. again the data is quite linear and the quotient stabalizes quite quickly to around 50.\n",
    "\n",
    "---"
   ]
  },
  {
   "cell_type": "markdown",
   "metadata": {
    "deletable": true,
    "editable": true
   },
   "source": [
    "# computation and population (graphical)\n",
    "\n",
    "now we come to the graphics part of the data collection. as forementioned, this was the original inspiration of the project. we wanted to see how pyqt, the graphics library, performed compared to the same app written in c++ using the regular qt library. data collection was more difficult for this portion of the project, due to the fact that the graphic interface had to be interacted with in order to gather data. to solve this i ended up writing a script in the gui test framework of [eggplant](https://www.testplant.com/eggplant/testing-tools/eggplant-developer/). the language eggplant uses is called [sensetalk](http://docs.testplant.com/?q=content/sensetalk-reference). i didnt include the eggplant suite in the repo because it is quite large and not important to the data, but if you want to see a sample of the eggplant script look [here](https://github.com/michaelneuder/python_vs_cpp/blob/master/cpp/graphical/sense_talk_scripts/run.script). due to the slow nature of running eggplant scripts, less data was collected, but still some reasonable results can be seen. below is an image from the graphical app to paint a picture of what it looked like and the functionality of it. more pictures can be found in the readme. \n",
    "\n",
    "![after upload completes](images/after_upload.png)\n",
    "\n",
    "now on to the results. \n",
    "\n",
    "first the non-factorization."
   ]
  },
  {
   "cell_type": "markdown",
   "metadata": {
    "deletable": true,
    "editable": true
   },
   "source": [
    "lastly we can look at the results of the computation and list population. lets look at the data."
   ]
  },
  {
   "cell_type": "code",
   "execution_count": 88,
   "metadata": {
    "collapsed": false,
    "deletable": true,
    "editable": true
   },
   "outputs": [
    {
     "data": {
      "image/png": "[encoded data removed]",
      "text/plain": [
       "<matplotlib.figure.Figure at 0x7fdfb6abcdd8>"
      ]
     },
     "metadata": {},
     "output_type": "display_data"
    }
   ],
   "source": [
    "# reading in the data\n",
    "python_data = pd.io.parsers.read_csv('python/graphical/results_python.csv', names=['number of input','runtime'], header=1)\n",
    "cpp_data = pd.io.parsers.read_csv('cpp/graphical/results_c++.csv', names=['number of input','runtime'], header=1)\n",
    "\n",
    "# plotting \n",
    "py_time_plot = np.asarray(python_data['runtime'], dtype=np.float64)\n",
    "cpp_time_plot = np.asarray(cpp_data['runtime'], dtype=np.float64)\n",
    "\n",
    "num_input_plot = np.asarray(python_data['number of input'], dtype=np.float64)\n",
    "\n",
    "plt.plot(num_input_plot, py_time_plot, 'g', label='python')\n",
    "plt.plot(num_input_plot, cpp_time_plot, 'r', label='cpp')\n",
    "plt.title(\"computation and list population\")\n",
    "plt.xlabel(\"number of input\")\n",
    "plt.ylabel(\"runtime (ms)\")\n",
    "plt.legend()\n",
    "plt.show()"
   ]
  },
  {
   "cell_type": "code",
   "execution_count": 89,
   "metadata": {
    "collapsed": false,
    "deletable": true,
    "editable": true
   },
   "outputs": [
    {
     "name": "stdout",
     "output_type": "stream",
     "text": [
      "pyqt is on average 51.11668694652376 times slower than qt for c++.\n"
     ]
    }
   ],
   "source": [
    "# checking the quotient\n",
    "quotient =  np.asarray([py_time_plot[i]/cpp_time_plot[i] for i in range(len(py_time_plot))])\n",
    "print(\"pyqt is on average {} times slower than qt for c++.\".format(quotient.mean()))"
   ]
  }
 ],
 "metadata": {
  "kernelspec": {
   "display_name": "Python 3",
   "language": "python",
   "name": "python3"
  },
  "language_info": {
   "codemirror_mode": {
    "name": "ipython",
    "version": 3
   },
   "file_extension": ".py",
   "mimetype": "text/x-python",
   "name": "python",
   "nbconvert_exporter": "python",
   "pygments_lexer": "ipython3",
   "version": "3.5.2"
  }
 },
 "nbformat": 4,
 "nbformat_minor": 2
}
